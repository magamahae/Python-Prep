{
 "cells": [
  {
   "attachments": {},
   "cell_type": "markdown",
   "metadata": {},
   "source": [
    "## Flujos de Control"
   ]
  },
  {
   "attachments": {},
   "cell_type": "markdown",
   "metadata": {},
   "source": [
    "1) Crear una variable que contenga un elemento del conjunto de números enteros y luego imprimir por pantalla si es mayor o menor a cero"
   ]
  },
  {
   "cell_type": "code",
   "execution_count": 7,
   "metadata": {},
   "outputs": [
    {
     "name": "stdout",
     "output_type": "stream",
     "text": [
      "el numero 7 es mayor a 0\n"
     ]
    }
   ],
   "source": [
    "num= 7\n",
    "if(num >0):\n",
    "    print('el numero ' + str(num) + ' es mayor a 0')\n",
    "elif(num <0):\n",
    "    print('el numero ' + str(num) + ' es menor a 0')\n",
    "else:\n",
    "    print('el numero ' + str(num) + ' es igual a 0')\n",
    "      "
   ]
  },
  {
   "attachments": {},
   "cell_type": "markdown",
   "metadata": {},
   "source": [
    "2) Crear dos variables y un condicional que informe si son del mismo tipo de dato"
   ]
  },
  {
   "cell_type": "code",
   "execution_count": 6,
   "metadata": {},
   "outputs": [
    {
     "name": "stdout",
     "output_type": "stream",
     "text": [
      "las variables son de distinto tipo\n"
     ]
    }
   ],
   "source": [
    "var1= 'hola'\n",
    "var2 = 6+2j\n",
    "\n",
    "if type(var1) == type(var2):\n",
    "    print('las variables son del mismo tipo')\n",
    "else:\n",
    "    print('las variables son de distinto tipo')\n"
   ]
  },
  {
   "attachments": {},
   "cell_type": "markdown",
   "metadata": {},
   "source": [
    "3) Para los valores enteros del 1 al 20, imprimir por pantalla si es par o impar"
   ]
  },
  {
   "cell_type": "code",
   "execution_count": 10,
   "metadata": {},
   "outputs": [
    {
     "name": "stdout",
     "output_type": "stream",
     "text": [
      "el numero 1no es primo\n",
      "el numero 2es primo\n",
      "el numero 3no es primo\n",
      "el numero 4es primo\n",
      "el numero 5no es primo\n",
      "el numero 6es primo\n",
      "el numero 7no es primo\n",
      "el numero 8es primo\n",
      "el numero 9no es primo\n",
      "el numero 10es primo\n",
      "el numero 11no es primo\n",
      "el numero 12es primo\n",
      "el numero 13no es primo\n",
      "el numero 14es primo\n",
      "el numero 15no es primo\n",
      "el numero 16es primo\n",
      "el numero 17no es primo\n",
      "el numero 18es primo\n",
      "el numero 19no es primo\n",
      "el numero 20es primo\n"
     ]
    }
   ],
   "source": [
    "for i in range(1,21):\n",
    "    if(i%2==0):\n",
    "        print ('el numero '  + str(i) + 'es primo')\n",
    "    else:\n",
    "        print ('el numero ' + str(i) + 'no es primo') "
   ]
  },
  {
   "attachments": {},
   "cell_type": "markdown",
   "metadata": {},
   "source": [
    "4) En un ciclo for mostrar para los valores entre 0 y 5 el resultado de elevarlo a la potencia igual a 3"
   ]
  },
  {
   "cell_type": "code",
   "execution_count": 12,
   "metadata": {},
   "outputs": [
    {
     "name": "stdout",
     "output_type": "stream",
     "text": [
      "la potencia de 0 elevado a la 3 es:0\n",
      "la potencia de 1 elevado a la 3 es:1\n",
      "la potencia de 2 elevado a la 3 es:8\n",
      "la potencia de 3 elevado a la 3 es:27\n",
      "la potencia de 4 elevado a la 3 es:64\n",
      "la potencia de 5 elevado a la 3 es:125\n"
     ]
    }
   ],
   "source": [
    "for i in range(0,6):\n",
    "    print('la potencia de ' + str(i) + ' elevado a la 3 es:' + str(i**3))"
   ]
  },
  {
   "attachments": {},
   "cell_type": "markdown",
   "metadata": {},
   "source": [
    "5) Crear una variable que contenga un número entero y realizar un ciclo for la misma cantidad de ciclos"
   ]
  },
  {
   "cell_type": "code",
   "execution_count": 19,
   "metadata": {},
   "outputs": [
    {
     "name": "stdout",
     "output_type": "stream",
     "text": [
      "ciclo for 0cantidad de veces\n",
      "ciclo for 1cantidad de veces\n",
      "ciclo for 2cantidad de veces\n",
      "ciclo for 3cantidad de veces\n"
     ]
    }
   ],
   "source": [
    "var = 4\n",
    "for i in range(0,4):\n",
    "    print('ciclo for ' + str(i) + 'cantidad de veces')"
   ]
  },
  {
   "attachments": {},
   "cell_type": "markdown",
   "metadata": {},
   "source": [
    "6) Utilizar un ciclo while para realizar el factorial de un número guardado en una variable, sólo si la variable contiene un número entero mayor a 0"
   ]
  },
  {
   "cell_type": "code",
   "execution_count": 27,
   "metadata": {},
   "outputs": [],
   "source": [
    "num= -4\n",
    "if (type(num) == int):\n",
    "    if (num ==0 or num<0):\n",
    "        None\n",
    "    if (num > 0):\n",
    "        factorial = num\n",
    "        while (num > 2):\n",
    "            num = num - 1\n",
    "            factorial = factorial * num\n",
    "        print('El factorial es'+ str(factorial))\n",
    "    \n",
    "else:\n",
    "    print('La variable no es un entero')"
   ]
  },
  {
   "attachments": {},
   "cell_type": "markdown",
   "metadata": {},
   "source": [
    "7) Crear un ciclo for dentro de un ciclo while"
   ]
  },
  {
   "cell_type": "code",
   "execution_count": 28,
   "metadata": {},
   "outputs": [
    {
     "name": "stdout",
     "output_type": "stream",
     "text": [
      "3\n",
      "4\n",
      "4\n",
      "5\n",
      "5\n",
      "6\n",
      "6\n",
      "7\n"
     ]
    }
   ],
   "source": [
    "x=1\n",
    "while x <5:\n",
    "    for i in range (2,4):\n",
    "        print(x+i)\n",
    "    x+=1"
   ]
  },
  {
   "attachments": {},
   "cell_type": "markdown",
   "metadata": {},
   "source": [
    "8) Crear un ciclo while dentro de un ciclo for"
   ]
  },
  {
   "cell_type": "code",
   "execution_count": 1,
   "metadata": {},
   "outputs": [
    {
     "name": "stdout",
     "output_type": "stream",
     "text": [
      "hola, ni num es: 2\n",
      "2\n",
      "3\n",
      "4\n",
      "hola, ni num es: 3\n",
      "3\n",
      "4\n",
      "hola, ni num es: 4\n",
      "4\n",
      "hola, ni num es: 5\n",
      "hola, ni num es: 6\n",
      "hola, ni num es: 7\n"
     ]
    }
   ],
   "source": [
    "for i in range(2,8):\n",
    "    print ('hola, ni num es: ' + str(i))\n",
    "    while i <5:\n",
    "        print(i)\n",
    "        i+=1"
   ]
  },
  {
   "attachments": {},
   "cell_type": "markdown",
   "metadata": {},
   "source": [
    "9) Imprimir los números primos existentes entre 0 y 30"
   ]
  },
  {
   "cell_type": "code",
   "execution_count": 8,
   "metadata": {},
   "outputs": [
    {
     "name": "stdout",
     "output_type": "stream",
     "text": [
      "es primo0\n",
      "es primo1\n",
      "es primo2\n",
      "es primo3\n",
      "es primo5\n",
      "es primo7\n",
      "es primo11\n",
      "es primo13\n",
      "es primo17\n",
      "es primo19\n",
      "es primo23\n",
      "es primo29\n"
     ]
    }
   ],
   "source": [
    "rango0=0\n",
    "rango1=30\n",
    "primo = True\n",
    "\n",
    "while (rango0 < rango1):\n",
    "    for i in range(2, rango0):\n",
    "        if (rango0 % i == 0):\n",
    "            primo = False\n",
    "    if (primo):\n",
    "        print('es primo' + str(rango0))\n",
    "    else:\n",
    "        primo = True\n",
    "    rango0 += 1"
   ]
  },
  {
   "attachments": {},
   "cell_type": "markdown",
   "metadata": {},
   "source": [
    "10) ¿Se puede mejorar el proceso del punto 9? Utilizar las sentencias break y/ó continue para tal fin"
   ]
  },
  {
   "cell_type": "code",
   "execution_count": null,
   "metadata": {},
   "outputs": [],
   "source": [
    "rango0=0\n",
    "rango1=30\n",
    "primo = True\n",
    "\n",
    "while (rango0 < rango1):\n",
    "    for i in range(2, rango0):\n",
    "        if (rango0 % i == 0):\n",
    "            primo = False\n",
    "            break\n",
    "    if (primo):\n",
    "        print('es primo' + str(rango0))\n",
    "    else:\n",
    "        primo = True\n",
    "    rango0 += 1"
   ]
  },
  {
   "attachments": {},
   "cell_type": "markdown",
   "metadata": {},
   "source": [
    "11) En los puntos 9 y 10, se diseño un código que encuentra números primos y además se lo optimizó. ¿Es posible saber en qué medida se optimizó?"
   ]
  },
  {
   "cell_type": "code",
   "execution_count": 10,
   "metadata": {},
   "outputs": [
    {
     "name": "stdout",
     "output_type": "stream",
     "text": [
      "es primo0ciclo sin break: 0\n",
      "es primo1ciclo sin break: 0\n",
      "es primo2ciclo sin break: 0\n",
      "es primo3ciclo sin break: 1\n",
      "es primo5ciclo sin break: 6\n",
      "es primo7ciclo sin break: 15\n",
      "es primo11ciclo sin break: 45\n",
      "es primo13ciclo sin break: 66\n",
      "es primo17ciclo sin break: 120\n",
      "es primo19ciclo sin break: 153\n",
      "es primo23ciclo sin break: 231\n",
      "es primo29ciclo sin break: 378\n"
     ]
    }
   ],
   "source": [
    "rango0=0\n",
    "rango1=30\n",
    "primo = True\n",
    "bbreak=0\n",
    "\n",
    "while (rango0 < rango1):\n",
    "    for i in range(2, rango0):\n",
    "        bbreak+=1\n",
    "        if (rango0 % i == 0):\n",
    "            primo = False\n",
    "    if (primo):\n",
    "        print('es primo' + str(rango0)+ 'ciclo sin break: ' + str(bbreak))\n",
    "    else:\n",
    "        primo = True\n",
    "    rango0 += 1"
   ]
  },
  {
   "cell_type": "code",
   "execution_count": 9,
   "metadata": {},
   "outputs": [
    {
     "name": "stdout",
     "output_type": "stream",
     "text": [
      "es primo0ciclos break:0\n",
      "es primo1ciclos break:0\n",
      "es primo2ciclos break:0\n",
      "es primo3ciclos break:1\n",
      "es primo5ciclos break:5\n",
      "es primo7ciclos break:11\n",
      "es primo11ciclos break:24\n",
      "es primo13ciclos break:36\n",
      "es primo17ciclos break:55\n",
      "es primo19ciclos break:73\n",
      "es primo23ciclos break:98\n",
      "es primo29ciclos break:134\n"
     ]
    }
   ],
   "source": [
    "#con break\n",
    "rango0=0\n",
    "rango1=30\n",
    "primo = True\n",
    "brbeak=0\n",
    "\n",
    "while (rango0 < rango1):\n",
    "    for i in range(2, rango0):\n",
    "        brbeak+=1\n",
    "        if (rango0 % i == 0):\n",
    "            primo = False\n",
    "            break\n",
    "    if (primo):\n",
    "        print('es primo' + str(rango0)+ 'ciclos break:'+ str(brbeak))\n",
    "    else:\n",
    "        primo = True\n",
    "    rango0 += 1"
   ]
  },
  {
   "attachments": {},
   "cell_type": "markdown",
   "metadata": {},
   "source": [
    "12) Aplicando continue, armar un ciclo while que solo imprima los valores divisibles por 12, dentro del rango de números de 100 a 300"
   ]
  },
  {
   "cell_type": "code",
   "execution_count": 1,
   "metadata": {},
   "outputs": [
    {
     "name": "stdout",
     "output_type": "stream",
     "text": [
      "108\n",
      "120\n",
      "132\n",
      "144\n",
      "156\n",
      "168\n",
      "180\n",
      "192\n",
      "204\n",
      "216\n",
      "228\n",
      "240\n",
      "252\n",
      "264\n",
      "276\n",
      "288\n",
      "300\n"
     ]
    }
   ],
   "source": [
    "n=99\n",
    "while (n<=300):\n",
    "    if(n%12==0):\n",
    "        print(n)\n",
    "    n+=1"
   ]
  },
  {
   "attachments": {},
   "cell_type": "markdown",
   "metadata": {},
   "source": [
    "13) Utilizar la función **input()** que permite hacer ingresos por teclado, para encontrar números primos y dar la opción al usario de buscar el siguiente"
   ]
  },
  {
   "cell_type": "code",
   "execution_count": 5,
   "metadata": {},
   "outputs": [
    {
     "name": "stdout",
     "output_type": "stream",
     "text": [
      "1\n",
      "¿Desea encontrar el siguiente número primo?\n",
      "2\n",
      "¿Desea encontrar el siguiente número primo?\n",
      "3\n",
      "¿Desea encontrar el siguiente número primo?\n",
      "5\n",
      "¿Desea encontrar el siguiente número primo?\n",
      "7\n",
      "¿Desea encontrar el siguiente número primo?\n",
      "11\n",
      "¿Desea encontrar el siguiente número primo?\n",
      "Se finaliza el proceso\n"
     ]
    }
   ],
   "source": [
    "n = 1\n",
    "sigue = 1\n",
    "primo = True\n",
    "while (sigue == 1):\n",
    "    for div in range(2, n):\n",
    "        if (n % div == 0):\n",
    "            primo = False\n",
    "            break\n",
    "    if (primo):\n",
    "        print(n)\n",
    "        print('¿Desea encontrar el siguiente número primo?')\n",
    "        if (input() != '1'):\n",
    "            print('Se finaliza el proceso')\n",
    "            break\n",
    "    else:\n",
    "        primo = True\n",
    "    n += 1"
   ]
  },
  {
   "attachments": {},
   "cell_type": "markdown",
   "metadata": {},
   "source": [
    "14) Crear un ciclo while que encuentre dentro del rango de 100 a 300 el primer número divisible por 3 y además múltiplo de 6"
   ]
  },
  {
   "cell_type": "code",
   "execution_count": 11,
   "metadata": {},
   "outputs": [
    {
     "name": "stdout",
     "output_type": "stream",
     "text": [
      "102\n"
     ]
    }
   ],
   "source": [
    "m=100\n",
    "while n <= 300:\n",
    "    if m % 6==0:\n",
    "        print(m)\n",
    "        break\n",
    "    m+=1\n"
   ]
  }
 ],
 "metadata": {
  "interpreter": {
   "hash": "c85384e4cb51c8b72350f3a8712cc8351fdc3955e32a27f9b60c6242ab125f01"
  },
  "kernelspec": {
   "display_name": "Python 3 (ipykernel)",
   "language": "python",
   "name": "python3"
  },
  "language_info": {
   "codemirror_mode": {
    "name": "ipython",
    "version": 3
   },
   "file_extension": ".py",
   "mimetype": "text/x-python",
   "name": "python",
   "nbconvert_exporter": "python",
   "pygments_lexer": "ipython3",
   "version": "3.11.4"
  }
 },
 "nbformat": 4,
 "nbformat_minor": 4
}
