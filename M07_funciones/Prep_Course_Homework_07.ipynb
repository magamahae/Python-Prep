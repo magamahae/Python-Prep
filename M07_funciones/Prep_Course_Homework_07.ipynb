{
 "cells": [
  {
   "attachments": {},
   "cell_type": "markdown",
   "metadata": {},
   "source": [
    "## Funciones"
   ]
  },
  {
   "attachments": {},
   "cell_type": "markdown",
   "metadata": {},
   "source": [
    "1) Crear una función que reciba un número como parámetro y devuelva True si es primo y False si no lo es"
   ]
  },
  {
   "cell_type": "code",
   "execution_count": 1,
   "metadata": {},
   "outputs": [],
   "source": [
    "def FcPrimo(num):\n",
    "    es_primo = True \n",
    "    for i in range(2, num):\n",
    "        if num % i == 0:  \n",
    "            es_primo = False \n",
    "            break \n",
    "    \n",
    "    return es_primo "
   ]
  },
  {
   "cell_type": "code",
   "execution_count": 2,
   "metadata": {},
   "outputs": [
    {
     "data": {
      "text/plain": [
       "False"
      ]
     },
     "execution_count": 2,
     "metadata": {},
     "output_type": "execute_result"
    }
   ],
   "source": [
    "FcPrimo(6)"
   ]
  },
  {
   "attachments": {},
   "cell_type": "markdown",
   "metadata": {},
   "source": [
    "2) Utilizando la función del punto 1, realizar otra función que reciba de parámetro una lista de números y devuelva sólo aquellos que son primos en otra lista"
   ]
  },
  {
   "cell_type": "code",
   "execution_count": 4,
   "metadata": {},
   "outputs": [],
   "source": [
    "def ListaPrimos(lista):\n",
    "    extra=[]\n",
    "    for elemento in lista:\n",
    "        if FcPrimo(int(elemento)):\n",
    "            extra.append(elemento)\n",
    "    return extra"
   ]
  },
  {
   "cell_type": "code",
   "execution_count": 5,
   "metadata": {},
   "outputs": [
    {
     "data": {
      "text/plain": [
       "[1, 2, 3, 5]"
      ]
     },
     "execution_count": 5,
     "metadata": {},
     "output_type": "execute_result"
    }
   ],
   "source": [
    "ListaPrimos([1,2,3,4,5,6])"
   ]
  },
  {
   "attachments": {},
   "cell_type": "markdown",
   "metadata": {},
   "source": [
    "3) Crear una función que al recibir una lista de números, devuelva el que más se repite y cuántas veces lo hace. Si hay más de un \"más repetido\", que devuelva cualquiera"
   ]
  },
  {
   "cell_type": "code",
   "execution_count": 6,
   "metadata": {},
   "outputs": [],
   "source": [
    "def MasRepetido(lista):\n",
    "    unicos = []\n",
    "    repeticiones = []\n",
    "    if len(lista) == 0:\n",
    "        return None\n",
    "    \n",
    "    for elemento in lista:\n",
    "        if elemento in unicos:\n",
    "            i = unicos.index(elemento)\n",
    "            repeticiones[i] += 1\n",
    "        else:\n",
    "            unicos.append(elemento)\n",
    "            repeticiones.append(1)\n",
    "    \n",
    "    moda = unicos[0]\n",
    "    maximo = repeticiones[0]\n",
    "    for i, elemento in enumerate(unicos):\n",
    "        if repeticiones[i] > maximo:\n",
    "            moda = unicos[i]\n",
    "            maximo = repeticiones[i]\n",
    "    return moda, maximo"
   ]
  },
  {
   "cell_type": "code",
   "execution_count": 7,
   "metadata": {},
   "outputs": [
    {
     "data": {
      "text/plain": [
       "(2, 3)"
      ]
     },
     "execution_count": 7,
     "metadata": {},
     "output_type": "execute_result"
    }
   ],
   "source": [
    "MasRepetido([2,3,5,2,7,4,67,4,3,2,7])"
   ]
  },
  {
   "attachments": {},
   "cell_type": "markdown",
   "metadata": {},
   "source": [
    "4) Crear una función que convierta entre grados Celsius, Farenheit y Kelvin<br>\n",
    "Fórmula 1\t: (°C × 9/5) + 32 = °F<br>\n",
    "Fórmula 2\t: °C + 273.15 = °K<br>\n",
    "Debe recibir 3 parámetros: el valor, la medida de orígen y la medida de destino\n"
   ]
  },
  {
   "cell_type": "code",
   "execution_count": 8,
   "metadata": {},
   "outputs": [],
   "source": [
    "def CambiaGrados(valor, origen, destino):\n",
    "    if origen == 'celsius':\n",
    "        if destino == 'celsius':\n",
    "            valor_destino = valor \n",
    "        elif destino == 'farenheit':\n",
    "            valor_destino = (valor * 9 / 5) + 32 \n",
    "        elif destino == 'kelvin':\n",
    "            valor_destino = valor + 273.15  \n",
    "        else:\n",
    "            print('Parámetro de Destino incorrecto')  \n",
    "    elif origen == 'farenheit':\n",
    "        if destino == 'celsius':\n",
    "            valor_destino = (valor - 32) * 5 / 9\n",
    "        elif destino == 'farenheit':\n",
    "            valor_destino = valor \n",
    "        elif destino == 'kelvin':\n",
    "            valor_destino = ((valor - 32) * 5 / 9) + 273.15  \n",
    "        else:\n",
    "            print('Parámetro de Destino incorrecto')\n",
    "    elif origen == 'kelvin':\n",
    "        if destino == 'celsius':\n",
    "            valor_destino = valor - 273.15  \n",
    "        elif destino == 'farenheit':\n",
    "            valor_destino = ((valor - 273.15) * 9 / 5) + 32  \n",
    "        elif destino == 'kelvin':\n",
    "            valor_destino = valor  \n",
    "        else:\n",
    "            print('Parámetro de Destino incorrecto')  \n",
    "    else:\n",
    "        print('Parámetro de Origen incorrecto')  \n",
    "    \n",
    "    return valor_destino"
   ]
  },
  {
   "attachments": {},
   "cell_type": "markdown",
   "metadata": {},
   "source": [
    "5) Iterando una lista con los tres valores posibles de temperatura que recibe la función del punto 5, hacer un print para cada combinación de los mismos:"
   ]
  },
  {
   "cell_type": "code",
   "execution_count": 11,
   "metadata": {},
   "outputs": [
    {
     "name": "stdout",
     "output_type": "stream",
     "text": [
      "1 grado Celsius a Celsius: 1\n",
      "1 grado Celsius a Kelvin: 274.15\n",
      "1 grado Celsius a Farenheit: 33.8\n",
      "1 grado Kelvin a Celsius: -272.15\n",
      "1 grado Kelvin a Kelvin: 1\n",
      "1 grado Kelvin a Farenheit: -457.87\n",
      "1 grado Farenheit a Celsius: -17.22222222222222\n",
      "1 grado Farenheit a Kelvin: 255.92777777777775\n",
      "1 grado Farenheit a Farenheit: 1\n"
     ]
    }
   ],
   "source": [
    "print('1 grado Celsius a Celsius:', CambiaGrados(1, 'celsius', 'celsius'))\n",
    "print('1 grado Celsius a Kelvin:', CambiaGrados(1, 'celsius', 'kelvin'))\n",
    "print('1 grado Celsius a Farenheit:', CambiaGrados(1, 'celsius', 'farenheit'))\n",
    "print('1 grado Kelvin a Celsius:', CambiaGrados(1, 'kelvin', 'celsius'))\n",
    "print('1 grado Kelvin a Kelvin:', CambiaGrados(1, 'kelvin', 'kelvin'))\n",
    "print('1 grado Kelvin a Farenheit:', CambiaGrados(1, 'kelvin', 'farenheit'))\n",
    "print('1 grado Farenheit a Celsius:', CambiaGrados(1, 'farenheit', 'celsius'))\n",
    "print('1 grado Farenheit a Kelvin:', CambiaGrados(1, 'farenheit', 'kelvin'))\n",
    "print('1 grado Farenheit a Farenheit:', CambiaGrados(1, 'farenheit', 'farenheit'))"
   ]
  },
  {
   "attachments": {},
   "cell_type": "markdown",
   "metadata": {},
   "source": [
    "6) Armar una función que devuelva el factorial de un número. Tener en cuenta que el usuario puede equivocarse y enviar de parámetro un número no entero o negativo"
   ]
  },
  {
   "cell_type": "code",
   "execution_count": 10,
   "metadata": {},
   "outputs": [
    {
     "name": "stdout",
     "output_type": "stream",
     "text": [
      "1 grado celsius a celsius : 1\n",
      "1 grado celsius a kelvin : 274.15\n",
      "1 grado celsius a farenheit : 33.8\n",
      "1 grado kelvin a celsius : -272.15\n",
      "1 grado kelvin a kelvin : 1\n",
      "1 grado kelvin a farenheit : -457.87\n",
      "1 grado farenheit a celsius : -17.22222222222222\n",
      "1 grado farenheit a kelvin : 255.92777777777775\n",
      "1 grado farenheit a farenheit : 1\n"
     ]
    }
   ],
   "source": [
    "metricas = ['celsius', 'kelvin', 'farenheit']  # Lista de las unidades métricas\n",
    "\n",
    "for i in range(0, 3):\n",
    "    for j in range(0, 3):  \n",
    "       \n",
    "        print('1 grado', metricas[i], 'a', metricas[j], ':', CambiaGrados(1, metricas[i], metricas[j]))\n"
   ]
  }
 ],
 "metadata": {
  "interpreter": {
   "hash": "c85384e4cb51c8b72350f3a8712cc8351fdc3955e32a27f9b60c6242ab125f01"
  },
  "kernelspec": {
   "display_name": "Python 3 (ipykernel)",
   "language": "python",
   "name": "python3"
  },
  "language_info": {
   "codemirror_mode": {
    "name": "ipython",
    "version": 3
   },
   "file_extension": ".py",
   "mimetype": "text/x-python",
   "name": "python",
   "nbconvert_exporter": "python",
   "pygments_lexer": "ipython3",
   "version": "3.11.4"
  }
 },
 "nbformat": 4,
 "nbformat_minor": 4
}
